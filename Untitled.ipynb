{
 "cells": [
  {
   "cell_type": "code",
   "execution_count": 2,
   "id": "5aba3523-a9b1-4b0f-b9cf-25e24beaaff0",
   "metadata": {},
   "outputs": [
    {
     "name": "stdout",
     "output_type": "stream",
     "text": [
      "sahil jojare \n"
     ]
    }
   ],
   "source": [
    "print (\"sahil jojare \")"
   ]
  },
  {
   "cell_type": "code",
   "execution_count": null,
   "id": "cf6d6ceb-848a-4c8f-ab9d-ff61593219bb",
   "metadata": {},
   "outputs": [],
   "source": []
  }
 ],
 "metadata": {
  "kernelspec": {
   "display_name": "Python 3 (ipykernel)",
   "language": "python",
   "name": "python3"
  },
  "language_info": {
   "codemirror_mode": {
    "name": "ipython",
    "version": 3
   },
   "file_extension": ".py",
   "mimetype": "text/x-python",
   "name": "python",
   "nbconvert_exporter": "python",
   "pygments_lexer": "ipython3",
   "version": "3.10.8"
  }
 },
 "nbformat": 4,
 "nbformat_minor": 5
}
